{
 "cells": [
  {
   "cell_type": "code",
   "execution_count": 1,
   "metadata": {},
   "outputs": [],
   "source": [
    "import json\n",
    "import re\n",
    "import pandas as pd"
   ]
  },
  {
   "cell_type": "code",
   "execution_count": 2,
   "metadata": {},
   "outputs": [
    {
     "name": "stdout",
     "output_type": "stream",
     "text": [
      "{'id': 1, 'author': 'Jefferson, Thomas, 1743-1826', 'title': 'The Declaration of Independence of the United States of America', 'summary': '\"The Declaration of Independence of the United States of America\" by Thomas Jefferson is a historic and foundational document penned in the late 18th century during the American Revolutionary period. This work primarily serves as a formal statement declaring the thirteen American colonies\\' separation from British rule, asserting their right to self-governance and independence. It encapsulates the philosophical underpinnings of democracy, highlighting fundamental human rights and the social contract between the government and the governed.  The text begins with a powerful introduction that outlines the principles of equality and the unalienable rights of individuals to life, liberty, and the pursuit of happiness. It details the various grievances against King George III, illustrating how his actions have eroded the colonists\\' rights and justified their decision to seek independence. By listing these grievances, the document seeks to assert the colonies\\' legitimate claim to self-determination. The Declaration culminates in a solemn proclamation of independence, stating that the colonies are entitled to be free and independent states, free from British authority and capable of forming their own alliances, levying war, and engaging in commerce. The Declaration\\'s closing emphasizes the signers\\' mutual pledge to support this cause, reinforcing the commitment of the colonists to their newly proclaimed liberty. (This is an automatically generated summary.)'}\n"
     ]
    }
   ],
   "source": [
    "with open('books_data_final_7000.json', 'r', encoding='utf-8') as f:\n",
    "    data = json.load(f)\n",
    "\n",
    "print(data[0])"
   ]
  },
  {
   "cell_type": "code",
   "execution_count": 3,
   "metadata": {},
   "outputs": [
    {
     "name": "stdout",
     "output_type": "stream",
     "text": [
      "{'id': 1, 'author': 'Jefferson, Thomas, 1743-1826', 'title': 'The Declaration of Independence of the United States of America', 'summary': '\"The Declaration of Independence of the United States of America\" by Thomas Jefferson is a historic and foundational document penned in the late 18th century during the American Revolutionary period. This work primarily serves as a formal statement declaring the thirteen American colonies\\' separation from British rule, asserting their right to self-governance and independence. It encapsulates the philosophical underpinnings of democracy, highlighting fundamental human rights and the social contract between the government and the governed.  The text begins with a powerful introduction that outlines the principles of equality and the unalienable rights of individuals to life, liberty, and the pursuit of happiness. It details the various grievances against King George III, illustrating how his actions have eroded the colonists\\' rights and justified their decision to seek independence. By listing these grievances, the document seeks to assert the colonies\\' legitimate claim to self-determination. The Declaration culminates in a solemn proclamation of independence, stating that the colonies are entitled to be free and independent states, free from British authority and capable of forming their own alliances, levying war, and engaging in commerce. The Declaration\\'s closing emphasizes the signers\\' mutual pledge to support this cause, reinforcing the commitment of the colonists to their newly proclaimed liberty. (This is an automatically generated summary.)'}\n"
     ]
    }
   ],
   "source": [
    "books_cleaned = []\n",
    "\n",
    "for book in data:\n",
    "    id_book = book.get('id')\n",
    "    author = book.get('author')\n",
    "    title = book.get('title')\n",
    "    summary = book.get('summary')\n",
    "\n",
    "    summary_cleaned = summary.replace('\\n', ' ').strip()\n",
    "\n",
    "\n",
    "    books_cleaned.append({\n",
    "        'id': id_book,\n",
    "        'author': author,\n",
    "        'title': title,\n",
    "        'summary': summary_cleaned\n",
    "    })\n",
    "\n",
    "print(books_cleaned[0])\n"
   ]
  },
  {
   "cell_type": "code",
   "execution_count": 4,
   "metadata": {},
   "outputs": [
    {
     "name": "stdout",
     "output_type": "stream",
     "text": [
      "   id                                         author  \\\n",
      "0   1                   Jefferson, Thomas, 1743-1826   \n",
      "1   2                                  United States   \n",
      "2   3  Kennedy, John F. (John Fitzgerald), 1917-1963   \n",
      "3   4                    Lincoln, Abraham, 1809-1865   \n",
      "4   5                                  United States   \n",
      "\n",
      "                                               title  \\\n",
      "0  The Declaration of Independence of the United ...   \n",
      "1  The United States Bill of RightsThe Ten Origin...   \n",
      "2                John F. Kennedy's Inaugural Address   \n",
      "3  Lincoln's Gettysburg AddressGiven November 19,...   \n",
      "4                     The United States Constitution   \n",
      "\n",
      "                                             summary  \n",
      "0  \"The Declaration of Independence of the United...  \n",
      "1  \"The United States Bill of Rights\" by United S...  \n",
      "2  \"John F. Kennedy's Inaugural Address\" by John ...  \n",
      "3  \"Lincoln's Gettysburg Address\" by Abraham Linc...  \n",
      "4  \"The United States Constitution\" by United Sta...  \n"
     ]
    }
   ],
   "source": [
    "data_books = pd.DataFrame(books_cleaned)\n",
    "\n",
    "print(data_books.head())"
   ]
  },
  {
   "cell_type": "code",
   "execution_count": 5,
   "metadata": {},
   "outputs": [],
   "source": [
    "data_books.to_json('cleaned_books.json', orient='records', lines=True, force_ascii=False)\n"
   ]
  },
  {
   "cell_type": "code",
   "execution_count": 6,
   "metadata": {},
   "outputs": [],
   "source": [
    "data_books.to_csv('cleaned_books.csv', index=False, encoding='utf-8')"
   ]
  }
 ],
 "metadata": {
  "kernelspec": {
   "display_name": "genailangchain",
   "language": "python",
   "name": "python3"
  },
  "language_info": {
   "codemirror_mode": {
    "name": "ipython",
    "version": 3
   },
   "file_extension": ".py",
   "mimetype": "text/x-python",
   "name": "python",
   "nbconvert_exporter": "python",
   "pygments_lexer": "ipython3",
   "version": "3.10.14"
  }
 },
 "nbformat": 4,
 "nbformat_minor": 2
}
